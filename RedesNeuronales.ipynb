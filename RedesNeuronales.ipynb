{
 "cells": [
  {
   "cell_type": "markdown",
   "id": "e3af10d9-afd7-4cdc-bc70-6496c1d69234",
   "metadata": {},
   "source": [
    "# Informe de Machine Learning.\n",
    "## Cuadernos con redes neuronales.\n",
    "- Mauricio Munoz Gutierrez - 2123687\n",
    "- Brayan Andres Sanchez Lozano - XXXXXXX\n",
    "- Jose Luis Hincapie Bucheli - XXXXXXX"
   ]
  },
  {
   "cell_type": "markdown",
   "id": "e81ae218-ae32-48bc-b406-784dbfe2c089",
   "metadata": {},
   "source": [
    "## Configuración básica para el trabajo."
   ]
  },
  {
   "cell_type": "code",
   "execution_count": 1,
   "id": "463e96ab-3f94-4955-86bf-b8fd7be18550",
   "metadata": {},
   "outputs": [],
   "source": [
    "#Importamos las librerias necesarias\n",
    "import numpy as np\n",
    "import pandas as pd\n",
    "import sklearn\n",
    "import warnings"
   ]
  },
  {
   "cell_type": "code",
   "execution_count": 2,
   "id": "5a57e1b5-25da-4472-ad5d-22332afdff08",
   "metadata": {},
   "outputs": [],
   "source": [
    "#Obtenemos los datos del csv\n",
    "datos = pd.read_csv(\"./breastCancer.csv\")"
   ]
  },
  {
   "cell_type": "code",
   "execution_count": 3,
   "id": "8a81a8af-522c-41c1-bfe0-489a7a3025f8",
   "metadata": {},
   "outputs": [
    {
     "name": "stdout",
     "output_type": "stream",
     "text": [
      "<class 'pandas.core.frame.DataFrame'>\n",
      "RangeIndex: 569 entries, 0 to 568\n",
      "Data columns (total 17 columns):\n",
      " #   Column                   Non-Null Count  Dtype  \n",
      "---  ------                   --------------  -----  \n",
      " 0   radius_mean              569 non-null    float64\n",
      " 1   texture_mean             569 non-null    float64\n",
      " 2   perimeter_mean           569 non-null    float64\n",
      " 3   area_mean                569 non-null    float64\n",
      " 4   smoothness_mean          569 non-null    float64\n",
      " 5   compactness_mean         569 non-null    float64\n",
      " 6   symmetry_mean            569 non-null    float64\n",
      " 7   fractal_dimension_mean   569 non-null    float64\n",
      " 8   radius_worst             569 non-null    float64\n",
      " 9   texture_worst            569 non-null    float64\n",
      " 10  perimeter_worst          569 non-null    float64\n",
      " 11  area_worst               569 non-null    float64\n",
      " 12  smoothness_worst         569 non-null    float64\n",
      " 13  compactness_worst        569 non-null    float64\n",
      " 14  symmetry_worst           569 non-null    float64\n",
      " 15  fractal_dimension_worst  569 non-null    float64\n",
      " 16  diagnosis                569 non-null    int64  \n",
      "dtypes: float64(16), int64(1)\n",
      "memory usage: 75.7 KB\n"
     ]
    }
   ],
   "source": [
    "#Vista rapida de los datos\n",
    "datos.info()"
   ]
  },
  {
   "cell_type": "markdown",
   "id": "2e27d2fc-ae77-4258-b47b-ecd6e2f71a8b",
   "metadata": {},
   "source": [
    "## Separación de datos para entrenamiento y pruebas"
   ]
  },
  {
   "cell_type": "code",
   "execution_count": 4,
   "id": "7d664e32-89ca-46d9-b844-e37ade525043",
   "metadata": {},
   "outputs": [
    {
     "name": "stdout",
     "output_type": "stream",
     "text": [
      "569 455 114\n"
     ]
    }
   ],
   "source": [
    "from sklearn.model_selection import train_test_split \n",
    "N=len(datos)\n",
    "#Datos de entrenamiento\n",
    "cTrain=int(N*0.8)\n",
    "\n",
    "#Datos de pruebas\n",
    "cTest=N-cTrain\n",
    "\n",
    "#Contar cantidad de datos\n",
    "print(N,cTrain,cTest)\n",
    "\n",
    "train_data,test_data= sklearn.model_selection.train_test_split(datos, train_size=cTrain, test_size=cTest)"
   ]
  },
  {
   "cell_type": "code",
   "execution_count": 5,
   "id": "91d5b26c-6f84-4138-967c-d0783acf3852",
   "metadata": {},
   "outputs": [
    {
     "name": "stdout",
     "output_type": "stream",
     "text": [
      "<class 'pandas.core.frame.DataFrame'>\n",
      "Index: 455 entries, 311 to 58\n",
      "Data columns (total 17 columns):\n",
      " #   Column                   Non-Null Count  Dtype  \n",
      "---  ------                   --------------  -----  \n",
      " 0   radius_mean              455 non-null    float64\n",
      " 1   texture_mean             455 non-null    float64\n",
      " 2   perimeter_mean           455 non-null    float64\n",
      " 3   area_mean                455 non-null    float64\n",
      " 4   smoothness_mean          455 non-null    float64\n",
      " 5   compactness_mean         455 non-null    float64\n",
      " 6   symmetry_mean            455 non-null    float64\n",
      " 7   fractal_dimension_mean   455 non-null    float64\n",
      " 8   radius_worst             455 non-null    float64\n",
      " 9   texture_worst            455 non-null    float64\n",
      " 10  perimeter_worst          455 non-null    float64\n",
      " 11  area_worst               455 non-null    float64\n",
      " 12  smoothness_worst         455 non-null    float64\n",
      " 13  compactness_worst        455 non-null    float64\n",
      " 14  symmetry_worst           455 non-null    float64\n",
      " 15  fractal_dimension_worst  455 non-null    float64\n",
      " 16  diagnosis                455 non-null    int64  \n",
      "dtypes: float64(16), int64(1)\n",
      "memory usage: 64.0 KB\n"
     ]
    }
   ],
   "source": [
    "train_data.info()"
   ]
  },
  {
   "cell_type": "markdown",
   "id": "1e81bb49-b07d-4183-8ba1-2b72cea7e1b6",
   "metadata": {},
   "source": [
    "## Pipeline para atributos."
   ]
  },
  {
   "cell_type": "code",
   "execution_count": 6,
   "id": "6e1a889b-0645-486e-a7a1-57a409774613",
   "metadata": {},
   "outputs": [],
   "source": [
    "from sklearn.pipeline import Pipeline\n",
    "from sklearn.impute import SimpleImputer\n",
    "from sklearn.preprocessing import StandardScaler\n",
    "from sklearn.preprocessing import MinMaxScaler\n",
    "from sklearn.compose import ColumnTransformer\n",
    "\n",
    "num_attribs = ['radius_mean','texture_mean','perimeter_mean','area_mean','smoothness_mean',\n",
    "               'compactness_mean','symmetry_mean','fractal_dimension_mean','radius_worst',\n",
    "               'texture_worst','perimeter_worst','area_worst','smoothness_worst','compactness_worst',\n",
    "               'symmetry_worst', 'fractal_dimension_worst']\n",
    "\n",
    "num_pipeline = Pipeline([\n",
    "        (\"imputer\", SimpleImputer(strategy=\"median\")),\n",
    "        (\"scaler\", StandardScaler()) \n",
    "    ])\n",
    "\n",
    "full_pipeline = ColumnTransformer([(\"num\", num_pipeline, num_attribs)])"
   ]
  },
  {
   "cell_type": "code",
   "execution_count": 7,
   "id": "fd5b6eec-697c-477b-9da1-f8bd7afbec38",
   "metadata": {},
   "outputs": [
    {
     "data": {
      "text/plain": [
       "311    0\n",
       "192    0\n",
       "314    0\n",
       "87     1\n",
       "123    0\n",
       "      ..\n",
       "118    1\n",
       "454    0\n",
       "108    1\n",
       "413    0\n",
       "58     0\n",
       "Name: diagnosis, Length: 455, dtype: int64"
      ]
     },
     "execution_count": 7,
     "metadata": {},
     "output_type": "execute_result"
    }
   ],
   "source": [
    "x_train = full_pipeline.fit_transform(train_data)\n",
    "y_train = train_data['diagnosis']\n",
    "\n",
    "y_train"
   ]
  },
  {
   "cell_type": "code",
   "execution_count": 8,
   "id": "a5c644c8-ae15-4040-964a-7360ad792859",
   "metadata": {},
   "outputs": [],
   "source": [
    "x_test = full_pipeline.transform(test_data)\n",
    "y_test = test_data['diagnosis']"
   ]
  },
  {
   "cell_type": "markdown",
   "id": "421c276a-0480-4cd0-96f3-deaedc5d5ec5",
   "metadata": {},
   "source": [
    "## Construcción de las redes neuronales."
   ]
  },
  {
   "cell_type": "code",
   "execution_count": 9,
   "id": "3828ce51-226f-4e7e-b7f9-3c33c5c24eed",
   "metadata": {},
   "outputs": [],
   "source": [
    "from sklearn.neural_network import MLPClassifier\n",
    "from sklearn.model_selection import cross_val_score\n",
    "from sklearn.metrics import accuracy_score\n",
    "from sklearn.metrics import confusion_matrix\n",
    "\n",
    "import matplotlib.pyplot as plt\n",
    "import seaborn as sns"
   ]
  },
  {
   "cell_type": "markdown",
   "id": "5bba1239-98fe-47a4-a142-4f8f7a1b33dc",
   "metadata": {},
   "source": [
    "### Red Neuronal 1"
   ]
  },
  {
   "cell_type": "code",
   "execution_count": 10,
   "id": "e77156b5-eb62-43b7-8c5c-69cfde8dec63",
   "metadata": {},
   "outputs": [
    {
     "name": "stderr",
     "output_type": "stream",
     "text": [
      "C:\\Python311\\Lib\\site-packages\\sklearn\\neural_network\\_multilayer_perceptron.py:546: ConvergenceWarning: lbfgs failed to converge (status=1):\n",
      "STOP: TOTAL NO. of ITERATIONS REACHED LIMIT.\n",
      "\n",
      "Increase the number of iterations (max_iter) or scale the data as shown in:\n",
      "    https://scikit-learn.org/stable/modules/preprocessing.html\n",
      "  self.n_iter_ = _check_optimize_result(\"lbfgs\", opt_res, self.max_iter)\n",
      "C:\\Python311\\Lib\\site-packages\\sklearn\\neural_network\\_multilayer_perceptron.py:546: ConvergenceWarning: lbfgs failed to converge (status=1):\n",
      "STOP: TOTAL NO. of ITERATIONS REACHED LIMIT.\n",
      "\n",
      "Increase the number of iterations (max_iter) or scale the data as shown in:\n",
      "    https://scikit-learn.org/stable/modules/preprocessing.html\n",
      "  self.n_iter_ = _check_optimize_result(\"lbfgs\", opt_res, self.max_iter)\n",
      "C:\\Python311\\Lib\\site-packages\\sklearn\\neural_network\\_multilayer_perceptron.py:546: ConvergenceWarning: lbfgs failed to converge (status=1):\n",
      "STOP: TOTAL NO. of ITERATIONS REACHED LIMIT.\n",
      "\n",
      "Increase the number of iterations (max_iter) or scale the data as shown in:\n",
      "    https://scikit-learn.org/stable/modules/preprocessing.html\n",
      "  self.n_iter_ = _check_optimize_result(\"lbfgs\", opt_res, self.max_iter)\n",
      "C:\\Python311\\Lib\\site-packages\\sklearn\\neural_network\\_multilayer_perceptron.py:546: ConvergenceWarning: lbfgs failed to converge (status=1):\n",
      "STOP: TOTAL NO. of ITERATIONS REACHED LIMIT.\n",
      "\n",
      "Increase the number of iterations (max_iter) or scale the data as shown in:\n",
      "    https://scikit-learn.org/stable/modules/preprocessing.html\n",
      "  self.n_iter_ = _check_optimize_result(\"lbfgs\", opt_res, self.max_iter)\n"
     ]
    },
    {
     "name": "stdout",
     "output_type": "stream",
     "text": [
      "[0.93406593 0.94505495 0.93406593 0.95604396 0.92307692]\n"
     ]
    },
    {
     "name": "stderr",
     "output_type": "stream",
     "text": [
      "C:\\Python311\\Lib\\site-packages\\sklearn\\neural_network\\_multilayer_perceptron.py:546: ConvergenceWarning: lbfgs failed to converge (status=1):\n",
      "STOP: TOTAL NO. of ITERATIONS REACHED LIMIT.\n",
      "\n",
      "Increase the number of iterations (max_iter) or scale the data as shown in:\n",
      "    https://scikit-learn.org/stable/modules/preprocessing.html\n",
      "  self.n_iter_ = _check_optimize_result(\"lbfgs\", opt_res, self.max_iter)\n"
     ]
    },
    {
     "data": {
      "text/plain": [
       "0.9384615384615385"
      ]
     },
     "execution_count": 10,
     "metadata": {},
     "output_type": "execute_result"
    }
   ],
   "source": [
    "modelo1 = MLPClassifier(activation='relu',solver='lbfgs',hidden_layer_sizes=(2,3,5,7,11), random_state=123)\n",
    "modelo1.fit(x_train, y_train)\n",
    "scores1 = cross_val_score(modelo1, x_train, y_train, cv=5, scoring='accuracy')\n",
    "print(scores1)\n",
    "scores1.mean()"
   ]
  },
  {
   "cell_type": "code",
   "execution_count": 11,
   "id": "d5120fc8-0372-47ba-9643-04ff0dee8a0a",
   "metadata": {},
   "outputs": [
    {
     "data": {
      "text/plain": [
       "0.956140350877193"
      ]
     },
     "execution_count": 11,
     "metadata": {},
     "output_type": "execute_result"
    }
   ],
   "source": [
    "y_pred1 = modelo1.predict(x_test)\n",
    "accuracy_score(y_test, y_pred1)"
   ]
  },
  {
   "cell_type": "code",
   "execution_count": 12,
   "id": "f6f5f582-9eeb-45f3-be22-adbf1e48b6c8",
   "metadata": {},
   "outputs": [
    {
     "data": {
      "image/png": "[encoded data removed]",
      "text/plain": [
       "<Figure size 640x480 with 2 Axes>"
      ]
     },
     "metadata": {},
     "output_type": "display_data"
    }
   ],
   "source": [
    "confusion_matrix1 = confusion_matrix(y_test, y_pred1)\n",
    "\n",
    "ax = plt.subplot()\n",
    "sns.heatmap(confusion_matrix1, annot=True, ax = ax, fmt='d')\n",
    "\n",
    "ax.set_xlabel('Predicted labels')\n",
    "ax.set_ylabel('Actual labels') \n",
    "ax.set_title('Confusion Matrix 1 - Breast Cancer') \n",
    "ax.xaxis.set_ticklabels(['Negative=0', 'Positive=1'])\n",
    "ax.yaxis.set_ticklabels(['Negative=0', 'Positive=1']);\n",
    "plt.show();"
   ]
  },
  {
   "cell_type": "markdown",
   "id": "fef8e6ab-6294-4762-a08a-6dbdea86dd4e",
   "metadata": {},
   "source": [
    "### Red Neuronal 2"
   ]
  },
  {
   "cell_type": "code",
   "execution_count": 13,
   "id": "52c4b96d-d1c6-457f-b4b3-6c96fc35bc1b",
   "metadata": {},
   "outputs": [
    {
     "name": "stderr",
     "output_type": "stream",
     "text": [
      "C:\\Python311\\Lib\\site-packages\\sklearn\\neural_network\\_multilayer_perceptron.py:691: ConvergenceWarning: Stochastic Optimizer: Maximum iterations (200) reached and the optimization hasn't converged yet.\n",
      "  warnings.warn(\n",
      "C:\\Python311\\Lib\\site-packages\\sklearn\\neural_network\\_multilayer_perceptron.py:691: ConvergenceWarning: Stochastic Optimizer: Maximum iterations (200) reached and the optimization hasn't converged yet.\n",
      "  warnings.warn(\n",
      "C:\\Python311\\Lib\\site-packages\\sklearn\\neural_network\\_multilayer_perceptron.py:691: ConvergenceWarning: Stochastic Optimizer: Maximum iterations (200) reached and the optimization hasn't converged yet.\n",
      "  warnings.warn(\n",
      "C:\\Python311\\Lib\\site-packages\\sklearn\\neural_network\\_multilayer_perceptron.py:691: ConvergenceWarning: Stochastic Optimizer: Maximum iterations (200) reached and the optimization hasn't converged yet.\n",
      "  warnings.warn(\n",
      "C:\\Python311\\Lib\\site-packages\\sklearn\\neural_network\\_multilayer_perceptron.py:691: ConvergenceWarning: Stochastic Optimizer: Maximum iterations (200) reached and the optimization hasn't converged yet.\n",
      "  warnings.warn(\n"
     ]
    },
    {
     "name": "stdout",
     "output_type": "stream",
     "text": [
      "[0.86813187 0.94505495 0.92307692 0.97802198 0.94505495]\n"
     ]
    },
    {
     "name": "stderr",
     "output_type": "stream",
     "text": [
      "C:\\Python311\\Lib\\site-packages\\sklearn\\neural_network\\_multilayer_perceptron.py:691: ConvergenceWarning: Stochastic Optimizer: Maximum iterations (200) reached and the optimization hasn't converged yet.\n",
      "  warnings.warn(\n"
     ]
    },
    {
     "data": {
      "text/plain": [
       "0.9318681318681319"
      ]
     },
     "execution_count": 13,
     "metadata": {},
     "output_type": "execute_result"
    }
   ],
   "source": [
    "modelo2 = MLPClassifier(activation='relu',solver='adam',hidden_layer_sizes=(250,400), random_state=123)\n",
    "modelo2.fit(x_train, y_train)\n",
    "scores2 = cross_val_score(modelo2, x_train, y_train, cv=5, scoring='accuracy')\n",
    "print(scores2)\n",
    "scores2.mean()"
   ]
  },
  {
   "cell_type": "code",
   "execution_count": 14,
   "id": "0947aa5e-997b-4bba-bad7-2e1b6e037da5",
   "metadata": {},
   "outputs": [
    {
     "data": {
      "text/plain": [
       "0.9649122807017544"
      ]
     },
     "execution_count": 14,
     "metadata": {},
     "output_type": "execute_result"
    }
   ],
   "source": [
    "y_pred2 = modelo2.predict(x_test)\n",
    "accuracy_score(y_test, y_pred2)"
   ]
  },
  {
   "cell_type": "code",
   "execution_count": 15,
   "id": "8b280f3b-ab3f-431f-8f69-97cf09218ffc",
   "metadata": {},
   "outputs": [
    {
     "data": {
      "image/png": "[encoded data removed]",
      "text/plain": [
       "<Figure size 640x480 with 2 Axes>"
      ]
     },
     "metadata": {},
     "output_type": "display_data"
    }
   ],
   "source": [
    "confusion_matrix2 = confusion_matrix(y_test, y_pred2)\n",
    "\n",
    "ax = plt.subplot()\n",
    "sns.heatmap(confusion_matrix2, annot=True, ax = ax, fmt='d')\n",
    "\n",
    "ax.set_xlabel('Predicted labels')\n",
    "ax.set_ylabel('Actual labels') \n",
    "ax.set_title('Confusion Matrix 2 - Breast Cancer') \n",
    "ax.xaxis.set_ticklabels(['Negative=0', 'Positive=1'])\n",
    "ax.yaxis.set_ticklabels(['Negative=0', 'Positive=1']);\n",
    "plt.show();"
   ]
  },
  {
   "cell_type": "markdown",
   "id": "868d9d77-7c35-44cf-8d44-b249375df0b6",
   "metadata": {},
   "source": [
    "### Red Neuronal 3"
   ]
  },
  {
   "cell_type": "code",
   "execution_count": 16,
   "id": "4afdac5c-da5a-4436-9d48-f70c8f0d2eae",
   "metadata": {},
   "outputs": [
    {
     "name": "stdout",
     "output_type": "stream",
     "text": [
      "[0.62637363 0.62637363 0.62637363 0.62637363 0.62637363]\n"
     ]
    },
    {
     "data": {
      "text/plain": [
       "0.6263736263736264"
      ]
     },
     "execution_count": 16,
     "metadata": {},
     "output_type": "execute_result"
    }
   ],
   "source": [
    "modelo3 = MLPClassifier(activation='logistic',solver='adam',hidden_layer_sizes=(15,10,3,8,7,10,9), random_state=123)\n",
    "modelo3.fit(x_train, y_train)\n",
    "scores3 = cross_val_score(modelo3, x_train, y_train, cv=5, scoring='accuracy')\n",
    "print(scores3)\n",
    "scores3.mean()"
   ]
  },
  {
   "cell_type": "code",
   "execution_count": 17,
   "id": "31e62beb-2fcd-41d7-a16a-e896ae653242",
   "metadata": {},
   "outputs": [
    {
     "data": {
      "text/plain": [
       "0.631578947368421"
      ]
     },
     "execution_count": 17,
     "metadata": {},
     "output_type": "execute_result"
    }
   ],
   "source": [
    "y_pred3 = modelo3.predict(x_test)\n",
    "accuracy_score(y_test, y_pred3)"
   ]
  },
  {
   "cell_type": "code",
   "execution_count": 18,
   "id": "f48e7925-ca66-41df-a85b-0bb4a1f9e701",
   "metadata": {},
   "outputs": [
    {
     "data": {
      "image/png": "[encoded data removed]",
      "text/plain": [
       "<Figure size 640x480 with 2 Axes>"
      ]
     },
     "metadata": {},
     "output_type": "display_data"
    }
   ],
   "source": [
    "confusion_matrix3 = confusion_matrix(y_test, y_pred3)\n",
    "\n",
    "ax = plt.subplot()\n",
    "sns.heatmap(confusion_matrix3, annot=True, ax = ax, fmt='d')\n",
    "\n",
    "ax.set_xlabel('Predicted labels')\n",
    "ax.set_ylabel('Actual labels') \n",
    "ax.set_title('Confusion Matrix 3 - Breast Cancer') \n",
    "ax.xaxis.set_ticklabels(['Negative=0', 'Positive=1'])\n",
    "ax.yaxis.set_ticklabels(['Negative=0', 'Positive=1']);\n",
    "plt.show();"
   ]
  },
  {
   "cell_type": "markdown",
   "id": "ef052896-7bfa-4943-a874-a792a99a1e84",
   "metadata": {},
   "source": [
    "### Red Neuronal 4"
   ]
  },
  {
   "cell_type": "code",
   "execution_count": 19,
   "id": "ea886273-3f14-47a4-adcb-495a97bdc025",
   "metadata": {},
   "outputs": [
    {
     "name": "stderr",
     "output_type": "stream",
     "text": [
      "C:\\Python311\\Lib\\site-packages\\sklearn\\neural_network\\_multilayer_perceptron.py:691: ConvergenceWarning: Stochastic Optimizer: Maximum iterations (200) reached and the optimization hasn't converged yet.\n",
      "  warnings.warn(\n",
      "C:\\Python311\\Lib\\site-packages\\sklearn\\neural_network\\_multilayer_perceptron.py:691: ConvergenceWarning: Stochastic Optimizer: Maximum iterations (200) reached and the optimization hasn't converged yet.\n",
      "  warnings.warn(\n",
      "C:\\Python311\\Lib\\site-packages\\sklearn\\neural_network\\_multilayer_perceptron.py:691: ConvergenceWarning: Stochastic Optimizer: Maximum iterations (200) reached and the optimization hasn't converged yet.\n",
      "  warnings.warn(\n",
      "C:\\Python311\\Lib\\site-packages\\sklearn\\neural_network\\_multilayer_perceptron.py:691: ConvergenceWarning: Stochastic Optimizer: Maximum iterations (200) reached and the optimization hasn't converged yet.\n",
      "  warnings.warn(\n",
      "C:\\Python311\\Lib\\site-packages\\sklearn\\neural_network\\_multilayer_perceptron.py:691: ConvergenceWarning: Stochastic Optimizer: Maximum iterations (200) reached and the optimization hasn't converged yet.\n",
      "  warnings.warn(\n"
     ]
    },
    {
     "name": "stdout",
     "output_type": "stream",
     "text": [
      "[0.92307692 0.93406593 0.93406593 0.95604396 0.92307692]\n"
     ]
    },
    {
     "name": "stderr",
     "output_type": "stream",
     "text": [
      "C:\\Python311\\Lib\\site-packages\\sklearn\\neural_network\\_multilayer_perceptron.py:691: ConvergenceWarning: Stochastic Optimizer: Maximum iterations (200) reached and the optimization hasn't converged yet.\n",
      "  warnings.warn(\n"
     ]
    },
    {
     "data": {
      "text/plain": [
       "0.9340659340659341"
      ]
     },
     "execution_count": 19,
     "metadata": {},
     "output_type": "execute_result"
    }
   ],
   "source": [
    "modelo4 = MLPClassifier(activation='identity',solver='sgd',hidden_layer_sizes=(150,25,35,10,50), random_state=123)\n",
    "modelo4.fit(x_train, y_train)\n",
    "scores4 = cross_val_score(modelo4, x_train, y_train, cv=5, scoring='accuracy')\n",
    "print(scores4)\n",
    "scores4.mean()"
   ]
  },
  {
   "cell_type": "code",
   "execution_count": 20,
   "id": "6d4524da-09cf-4e9c-a31b-78456b2cb0b9",
   "metadata": {},
   "outputs": [
    {
     "data": {
      "text/plain": [
       "0.956140350877193"
      ]
     },
     "execution_count": 20,
     "metadata": {},
     "output_type": "execute_result"
    }
   ],
   "source": [
    "y_pred4 = modelo4.predict(x_test)\n",
    "accuracy_score(y_test, y_pred4)"
   ]
  },
  {
   "cell_type": "code",
   "execution_count": 21,
   "id": "788ed07c-234c-4c3d-bd10-a2be91503423",
   "metadata": {},
   "outputs": [
    {
     "data": {
      "image/png": "[encoded data removed]",
      "text/plain": [
       "<Figure size 640x480 with 2 Axes>"
      ]
     },
     "metadata": {},
     "output_type": "display_data"
    }
   ],
   "source": [
    "confusion_matrix4 = confusion_matrix(y_test, y_pred4)\n",
    "\n",
    "ax = plt.subplot()\n",
    "sns.heatmap(confusion_matrix4, annot=True, ax = ax, fmt='d')\n",
    "\n",
    "ax.set_xlabel('Predicted labels')\n",
    "ax.set_ylabel('Actual labels') \n",
    "ax.set_title('Confusion Matrix 4 - Breast Cancer') \n",
    "ax.xaxis.set_ticklabels(['Negative=0', 'Positive=1'])\n",
    "ax.yaxis.set_ticklabels(['Negative=0', 'Positive=1']);\n",
    "plt.show();"
   ]
  },
  {
   "cell_type": "markdown",
   "id": "95cdb297-7286-4b7f-89fe-c34fa0a6d39e",
   "metadata": {},
   "source": [
    "### Red Neuronal 5"
   ]
  },
  {
   "cell_type": "code",
   "execution_count": 22,
   "id": "91949f0c-c6e3-4c61-84a3-18d986f17ad8",
   "metadata": {},
   "outputs": [
    {
     "name": "stderr",
     "output_type": "stream",
     "text": [
      "C:\\Python311\\Lib\\site-packages\\sklearn\\neural_network\\_multilayer_perceptron.py:691: ConvergenceWarning: Stochastic Optimizer: Maximum iterations (200) reached and the optimization hasn't converged yet.\n",
      "  warnings.warn(\n",
      "C:\\Python311\\Lib\\site-packages\\sklearn\\neural_network\\_multilayer_perceptron.py:691: ConvergenceWarning: Stochastic Optimizer: Maximum iterations (200) reached and the optimization hasn't converged yet.\n",
      "  warnings.warn(\n",
      "C:\\Python311\\Lib\\site-packages\\sklearn\\neural_network\\_multilayer_perceptron.py:691: ConvergenceWarning: Stochastic Optimizer: Maximum iterations (200) reached and the optimization hasn't converged yet.\n",
      "  warnings.warn(\n",
      "C:\\Python311\\Lib\\site-packages\\sklearn\\neural_network\\_multilayer_perceptron.py:691: ConvergenceWarning: Stochastic Optimizer: Maximum iterations (200) reached and the optimization hasn't converged yet.\n",
      "  warnings.warn(\n",
      "C:\\Python311\\Lib\\site-packages\\sklearn\\neural_network\\_multilayer_perceptron.py:691: ConvergenceWarning: Stochastic Optimizer: Maximum iterations (200) reached and the optimization hasn't converged yet.\n",
      "  warnings.warn(\n"
     ]
    },
    {
     "name": "stdout",
     "output_type": "stream",
     "text": [
      "[0.89010989 0.94505495 0.91208791 0.96703297 0.93406593]\n"
     ]
    },
    {
     "name": "stderr",
     "output_type": "stream",
     "text": [
      "C:\\Python311\\Lib\\site-packages\\sklearn\\neural_network\\_multilayer_perceptron.py:691: ConvergenceWarning: Stochastic Optimizer: Maximum iterations (200) reached and the optimization hasn't converged yet.\n",
      "  warnings.warn(\n"
     ]
    },
    {
     "data": {
      "text/plain": [
       "0.9296703296703297"
      ]
     },
     "execution_count": 22,
     "metadata": {},
     "output_type": "execute_result"
    }
   ],
   "source": [
    "modelo5 = MLPClassifier(activation='tanh',solver='adam',hidden_layer_sizes=(6,2,2,1,7,12,6,3,9,4), random_state=123)\n",
    "modelo5.fit(x_train, y_train)\n",
    "scores5 = cross_val_score(modelo5, x_train, y_train, cv=5, scoring='accuracy')\n",
    "print(scores5)\n",
    "scores5.mean()"
   ]
  },
  {
   "cell_type": "code",
   "execution_count": 23,
   "id": "edf26274-6f02-4d49-890e-560686d9b079",
   "metadata": {},
   "outputs": [
    {
     "data": {
      "text/plain": [
       "0.9385964912280702"
      ]
     },
     "execution_count": 23,
     "metadata": {},
     "output_type": "execute_result"
    }
   ],
   "source": [
    "y_pred5 = modelo5.predict(x_test)\n",
    "accuracy_score(y_test, y_pred5)"
   ]
  },
  {
   "cell_type": "code",
   "execution_count": 24,
   "id": "022aa4bb-6ebb-45a4-98f9-4a1de65e226e",
   "metadata": {},
   "outputs": [
    {
     "data": {
      "image/png": "[encoded data removed]",
      "text/plain": [
       "<Figure size 640x480 with 2 Axes>"
      ]
     },
     "metadata": {},
     "output_type": "display_data"
    }
   ],
   "source": [
    "confusion_matrix5 = confusion_matrix(y_test, y_pred5)\n",
    "\n",
    "ax = plt.subplot()\n",
    "sns.heatmap(confusion_matrix5, annot=True, ax = ax, fmt='d')\n",
    "\n",
    "ax.set_xlabel('Predicted labels')\n",
    "ax.set_ylabel('Actual labels') \n",
    "ax.set_title('Confusion Matrix 5 - Breast Cancer') \n",
    "ax.xaxis.set_ticklabels(['Negative=0', 'Positive=1'])\n",
    "ax.yaxis.set_ticklabels(['Negative=0', 'Positive=1']);\n",
    "plt.show();"
   ]
  },
  {
   "cell_type": "markdown",
   "id": "d49eaf57-f0a7-477e-a293-6e8b2c8f0592",
   "metadata": {},
   "source": [
    "### Resumen de las redes  "
   ]
  },
  {
   "cell_type": "markdown",
   "id": "61d4e448-7954-4a79-b0f5-db8a4a43d04d",
   "metadata": {},
   "source": [
    "| Red Neuronal    | Func. Activacion | Solver | Capas Ocultas | Accuracy           |\n",
    "| --------------- | ---------------- | ------ | ------------- | ------------------ |\n",
    "| Red 1           | relu             | lbfgs  |  (2,3,5,7,11)        | 0.956140350877193 |\n",
    "| Red 2           | relu             | adam   |  (250,400)    | 0.9649122807017544 |\n",
    "| Red 3           | logistic             | adam   |  (15,10,3,8,7,10,9)      | 0.631578947368421 |\n",
    "| Red 4           | identity         | sgd    |  (150,25,35,10,50)     | 0.956140350877193 |\n",
    "| Red 5           | tanh             | adam   |  (6,2,2,1,7,12,6,3,9,4)     | 0.9385964912280702|\n",
    "\n",
    "La red con mejor precisión obtenida es la red neuronal 2."
   ]
  },
  {
   "cell_type": "markdown",
   "id": "336346e5-f81e-4ca0-a16a-52457e8a08b5",
   "metadata": {},
   "source": [
    "## Haciendo variaciones a la red de mejor precisión."
   ]
  },
  {
   "cell_type": "markdown",
   "id": "6efe6cdb-ab20-47e4-9958-a8f816be971c",
   "metadata": {},
   "source": [
    "El hiperparámetro a modificar es beta_1:"
   ]
  },
  {
   "cell_type": "markdown",
   "id": "2c3c8aaf-e047-4a91-b3bb-3c3d90a188fa",
   "metadata": {},
   "source": [
    "### Variación 1: Beta_1 = 0.75"
   ]
  },
  {
   "cell_type": "code",
   "execution_count": 52,
   "id": "446a4268-111e-4e64-b534-4a6d2333e89a",
   "metadata": {},
   "outputs": [
    {
     "name": "stderr",
     "output_type": "stream",
     "text": [
      "C:\\Python311\\Lib\\site-packages\\sklearn\\neural_network\\_multilayer_perceptron.py:691: ConvergenceWarning: Stochastic Optimizer: Maximum iterations (200) reached and the optimization hasn't converged yet.\n",
      "  warnings.warn(\n",
      "C:\\Python311\\Lib\\site-packages\\sklearn\\neural_network\\_multilayer_perceptron.py:691: ConvergenceWarning: Stochastic Optimizer: Maximum iterations (200) reached and the optimization hasn't converged yet.\n",
      "  warnings.warn(\n",
      "C:\\Python311\\Lib\\site-packages\\sklearn\\neural_network\\_multilayer_perceptron.py:691: ConvergenceWarning: Stochastic Optimizer: Maximum iterations (200) reached and the optimization hasn't converged yet.\n",
      "  warnings.warn(\n",
      "C:\\Python311\\Lib\\site-packages\\sklearn\\neural_network\\_multilayer_perceptron.py:691: ConvergenceWarning: Stochastic Optimizer: Maximum iterations (200) reached and the optimization hasn't converged yet.\n",
      "  warnings.warn(\n",
      "C:\\Python311\\Lib\\site-packages\\sklearn\\neural_network\\_multilayer_perceptron.py:691: ConvergenceWarning: Stochastic Optimizer: Maximum iterations (200) reached and the optimization hasn't converged yet.\n",
      "  warnings.warn(\n"
     ]
    },
    {
     "name": "stdout",
     "output_type": "stream",
     "text": [
      "[0.86813187 0.95604396 0.91208791 0.97802198 0.93406593]\n"
     ]
    },
    {
     "name": "stderr",
     "output_type": "stream",
     "text": [
      "C:\\Python311\\Lib\\site-packages\\sklearn\\neural_network\\_multilayer_perceptron.py:691: ConvergenceWarning: Stochastic Optimizer: Maximum iterations (200) reached and the optimization hasn't converged yet.\n",
      "  warnings.warn(\n"
     ]
    },
    {
     "data": {
      "text/plain": [
       "0.9296703296703297"
      ]
     },
     "execution_count": 52,
     "metadata": {},
     "output_type": "execute_result"
    }
   ],
   "source": [
    "modeloV1 = MLPClassifier(activation='relu',solver='adam',hidden_layer_sizes=(250,400), random_state=123,beta_1=0.75)\n",
    "modeloV1.fit(x_train, y_train)\n",
    "scoresV1 = cross_val_score(modeloV1, x_train, y_train, cv=5, scoring='accuracy')\n",
    "print(scoresV1)\n",
    "scoresV1.mean()"
   ]
  },
  {
   "cell_type": "code",
   "execution_count": 53,
   "id": "115c00af-bb2a-4b66-9937-db6afe581642",
   "metadata": {},
   "outputs": [
    {
     "data": {
      "text/plain": [
       "0.9649122807017544"
      ]
     },
     "execution_count": 53,
     "metadata": {},
     "output_type": "execute_result"
    }
   ],
   "source": [
    "y_predV1 = modeloV1.predict(x_test)\n",
    "accuracy_score(y_test, y_predV1)"
   ]
  },
  {
   "cell_type": "markdown",
   "id": "be2bdc2f-3aee-4701-8326-fc74eb362758",
   "metadata": {},
   "source": [
    "### Variación 2: Beta_1:0.2"
   ]
  },
  {
   "cell_type": "code",
   "execution_count": 54,
   "id": "c63fae48-f021-4c92-9d76-49bdce46a2de",
   "metadata": {},
   "outputs": [
    {
     "name": "stderr",
     "output_type": "stream",
     "text": [
      "C:\\Python311\\Lib\\site-packages\\sklearn\\neural_network\\_multilayer_perceptron.py:691: ConvergenceWarning: Stochastic Optimizer: Maximum iterations (200) reached and the optimization hasn't converged yet.\n",
      "  warnings.warn(\n",
      "C:\\Python311\\Lib\\site-packages\\sklearn\\neural_network\\_multilayer_perceptron.py:691: ConvergenceWarning: Stochastic Optimizer: Maximum iterations (200) reached and the optimization hasn't converged yet.\n",
      "  warnings.warn(\n",
      "C:\\Python311\\Lib\\site-packages\\sklearn\\neural_network\\_multilayer_perceptron.py:691: ConvergenceWarning: Stochastic Optimizer: Maximum iterations (200) reached and the optimization hasn't converged yet.\n",
      "  warnings.warn(\n",
      "C:\\Python311\\Lib\\site-packages\\sklearn\\neural_network\\_multilayer_perceptron.py:691: ConvergenceWarning: Stochastic Optimizer: Maximum iterations (200) reached and the optimization hasn't converged yet.\n",
      "  warnings.warn(\n"
     ]
    },
    {
     "name": "stdout",
     "output_type": "stream",
     "text": [
      "[0.86813187 0.95604396 0.92307692 0.97802198 0.92307692]\n"
     ]
    },
    {
     "name": "stderr",
     "output_type": "stream",
     "text": [
      "C:\\Python311\\Lib\\site-packages\\sklearn\\neural_network\\_multilayer_perceptron.py:691: ConvergenceWarning: Stochastic Optimizer: Maximum iterations (200) reached and the optimization hasn't converged yet.\n",
      "  warnings.warn(\n"
     ]
    },
    {
     "data": {
      "text/plain": [
       "0.9296703296703297"
      ]
     },
     "execution_count": 54,
     "metadata": {},
     "output_type": "execute_result"
    }
   ],
   "source": [
    "modeloV2 = MLPClassifier(activation='relu',solver='adam',hidden_layer_sizes=(250,400), random_state=123,beta_1=0.2)\n",
    "modeloV2.fit(x_train, y_train)\n",
    "scoresV2 = cross_val_score(modeloV2, x_train, y_train, cv=5, scoring='accuracy')\n",
    "print(scoresV2)\n",
    "scoresV2.mean()"
   ]
  },
  {
   "cell_type": "code",
   "execution_count": 55,
   "id": "172d04d5-2570-4953-968b-a4d3df128282",
   "metadata": {},
   "outputs": [
    {
     "data": {
      "text/plain": [
       "0.956140350877193"
      ]
     },
     "execution_count": 55,
     "metadata": {},
     "output_type": "execute_result"
    }
   ],
   "source": [
    "y_predV2 = modeloV2.predict(x_test)\n",
    "accuracy_score(y_test, y_predV2)"
   ]
  },
  {
   "cell_type": "markdown",
   "id": "54054fd9-f840-40d3-b705-f405e381b6a2",
   "metadata": {},
   "source": [
    "Tabla de resultados.\n",
    "\n",
    "| Red Neuronal    | Func. Activacion | Solver | Capas Ocultas |beta_1| Accuracy           |\n",
    "| --------------- | ---------------- | ------ | ------------- | -- |--------------- |\n",
    "| Red 2           | relu             | adam   | (250,400)     | default(0.9)   | 0.9649122807017544  |\n",
    "| Red Variacion 1 | relu             | adam   | (250,400)     | 0.75   | 0.9649122807017544 |\n",
    "| Red Variacion 2 | relu             | adam   | (250,400)     | 0.2   | 0.956140350877193 |"
   ]
  },
  {
   "cell_type": "markdown",
   "id": "b3cfab00-a008-4bb0-be94-ad6c101e6ddc",
   "metadata": {},
   "source": [
    "El hiperparámetro que se ha variado es beta_1, el cuál por defecto se mantiene en 0.9 y solo tiene uso cuando el solver usado es adam. Se puede observar entonces para un valor de beta_1 igual a 0.75 (caso de la variación 1) el valor de la presición se mantuvo igual, mientras que para un valor más bajo como lo es 0.2 (caso de la variación 2) el valor de la presición disminuyó."
   ]
  },
  {
   "cell_type": "code",
   "execution_count": null,
   "id": "e7d97fbb-c728-4ffa-9678-ed5f7eefa3b1",
   "metadata": {},
   "outputs": [],
   "source": []
  }
 ],
 "metadata": {
  "kernelspec": {
   "display_name": "Python 3 (ipykernel)",
   "language": "python",
   "name": "python3"
  },
  "language_info": {
   "codemirror_mode": {
    "name": "ipython",
    "version": 3
   },
   "file_extension": ".py",
   "mimetype": "text/x-python",
   "name": "python",
   "nbconvert_exporter": "python",
   "pygments_lexer": "ipython3",
   "version": "3.11.0"
  }
 },
 "nbformat": 4,
 "nbformat_minor": 5
}
